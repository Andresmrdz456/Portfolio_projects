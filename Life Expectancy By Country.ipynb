{
 "cells": [
  {
   "cell_type": "code",
   "execution_count": 1,
   "metadata": {},
   "outputs": [],
   "source": [
    "import numpy as np\n",
    "import pandas as pd\n",
    "import matplotlib.pyplot as plt"
   ]
  },
  {
   "cell_type": "code",
   "execution_count": null,
   "metadata": {},
   "outputs": [
    {
     "data": {
      "text/html": [
       "<div>\n",
       "<style scoped>\n",
       "    .dataframe tbody tr th:only-of-type {\n",
       "        vertical-align: middle;\n",
       "    }\n",
       "\n",
       "    .dataframe tbody tr th {\n",
       "        vertical-align: top;\n",
       "    }\n",
       "\n",
       "    .dataframe thead th {\n",
       "        text-align: right;\n",
       "    }\n",
       "</style>\n",
       "<table border=\"1\" class=\"dataframe\">\n",
       "  <thead>\n",
       "    <tr style=\"text-align: right;\">\n",
       "      <th></th>\n",
       "      <th>Country</th>\n",
       "      <th>Life Expectancy</th>\n",
       "      <th>GDP</th>\n",
       "    </tr>\n",
       "  </thead>\n",
       "  <tbody>\n",
       "    <tr>\n",
       "      <th>0</th>\n",
       "      <td>Afghanistan</td>\n",
       "      <td>58.19375</td>\n",
       "      <td>340.015425</td>\n",
       "    </tr>\n",
       "    <tr>\n",
       "      <th>1</th>\n",
       "      <td>Albania</td>\n",
       "      <td>75.15625</td>\n",
       "      <td>2119.726679</td>\n",
       "    </tr>\n",
       "    <tr>\n",
       "      <th>2</th>\n",
       "      <td>Algeria</td>\n",
       "      <td>73.61875</td>\n",
       "      <td>2847.853392</td>\n",
       "    </tr>\n",
       "    <tr>\n",
       "      <th>3</th>\n",
       "      <td>Angola</td>\n",
       "      <td>49.01875</td>\n",
       "      <td>1975.143045</td>\n",
       "    </tr>\n",
       "    <tr>\n",
       "      <th>4</th>\n",
       "      <td>Antigua and Barbuda</td>\n",
       "      <td>75.05625</td>\n",
       "      <td>9759.305728</td>\n",
       "    </tr>\n",
       "  </tbody>\n",
       "</table>\n",
       "</div>"
      ],
      "text/plain": [
       "               Country  Life Expectancy          GDP\n",
       "0          Afghanistan         58.19375   340.015425\n",
       "1              Albania         75.15625  2119.726679\n",
       "2              Algeria         73.61875  2847.853392\n",
       "3               Angola         49.01875  1975.143045\n",
       "4  Antigua and Barbuda         75.05625  9759.305728"
      ]
     },
     "execution_count": 2,
     "metadata": {},
     "output_type": "execute_result"
    }
   ],
   "source": [
    "# Access Data\n",
    "data = pd.read_csv('country_data.csv')\n",
    "\n",
    "data.head()"
   ]
  },
  {
   "cell_type": "code",
   "execution_count": null,
   "metadata": {},
   "outputs": [],
   "source": [
    "# Select one column to work on\n",
    "life_expectancy = data['Life Expectancy']"
   ]
  },
  {
   "cell_type": "code",
   "execution_count": null,
   "metadata": {},
   "outputs": [
    {
     "name": "stdout",
     "output_type": "stream",
     "text": [
      "[62.325     72.525     75.4421875]\n"
     ]
    }
   ],
   "source": [
    "# Calculate the quartiles\n",
    "life_expectancy_quartiles = np.quantile(life_expectancy, [0.25, 0.5, 0.75])\n",
    "\n",
    "print(life_expectancy_quartiles)"
   ]
  },
  {
   "cell_type": "code",
   "execution_count": 10,
   "metadata": {},
   "outputs": [
    {
     "data": {
      "image/png": "[encoded data removed]",
      "text/plain": [
       "<Figure size 640x480 with 1 Axes>"
      ]
     },
     "metadata": {},
     "output_type": "display_data"
    }
   ],
   "source": [
    "# Create a histogram with the data using plt\n",
    "plt.title('Life Expectancy')\n",
    "plt.hist(life_expectancy, color = 'lightgreen')\n",
    "plt.show()"
   ]
  },
  {
   "cell_type": "markdown",
   "metadata": {},
   "source": [
    "## Splitting the Data by GDP"
   ]
  },
  {
   "cell_type": "code",
   "execution_count": 11,
   "metadata": {},
   "outputs": [
    {
     "name": "stdout",
     "output_type": "stream",
     "text": [
      "0       340.015425\n",
      "1      2119.726679\n",
      "2      2847.853392\n",
      "3      1975.143045\n",
      "4      9759.305728\n",
      "          ...     \n",
      "153    7192.584875\n",
      "154     651.092359\n",
      "155    2000.245518\n",
      "156     811.811841\n",
      "157     410.980194\n",
      "Name: GDP, Length: 158, dtype: float64\n"
     ]
    }
   ],
   "source": [
    "# Isolate the GDP column\n",
    "gdp = data['GDP']\n",
    "print(gdp)"
   ]
  },
  {
   "cell_type": "code",
   "execution_count": 13,
   "metadata": {},
   "outputs": [
    {
     "name": "stdout",
     "output_type": "stream",
     "text": [
      "2938.0781155\n"
     ]
    }
   ],
   "source": [
    "# Find the median GDP\n",
    "median_gdp = np.quantile(gdp, 0.5)\n",
    "print(median_gdp)"
   ]
  },
  {
   "cell_type": "code",
   "execution_count": null,
   "metadata": {},
   "outputs": [
    {
     "name": "stdout",
     "output_type": "stream",
     "text": [
      "         Country  Life Expectancy          GDP\n",
      "0    Afghanistan         58.19375   340.015425\n",
      "1        Albania         75.15625  2119.726679\n",
      "2        Algeria         73.61875  2847.853392\n",
      "3         Angola         49.01875  1975.143045\n",
      "6        Armenia         73.40000  1999.986318\n",
      "..           ...              ...          ...\n",
      "151      Ukraine         69.93750  1577.293329\n",
      "154   Uzbekistan         68.03125   651.092359\n",
      "155      Vanuatu         71.38750  2000.245518\n",
      "156       Zambia         53.90625   811.811841\n",
      "157     Zimbabwe         50.48750   410.980194\n",
      "\n",
      "[79 rows x 3 columns]\n"
     ]
    }
   ],
   "source": [
    "# Grab all the rows that have a GDP <= median\n",
    "low_gdp = data[data['GDP'] <= median_gdp]\n",
    "high_gdp = data[data['GDP'] > median_gdp]\n",
    "\n"
   ]
  },
  {
   "cell_type": "code",
   "execution_count": null,
   "metadata": {},
   "outputs": [
    {
     "name": "stdout",
     "output_type": "stream",
     "text": [
      "0      58.19375\n",
      "1      75.15625\n",
      "2      73.61875\n",
      "3      49.01875\n",
      "6      73.40000\n",
      "         ...   \n",
      "151    69.93750\n",
      "154    68.03125\n",
      "155    71.38750\n",
      "156    53.90625\n",
      "157    50.48750\n",
      "Name: Life Expectancy, Length: 79, dtype: float64\n"
     ]
    }
   ],
   "source": [
    "# Find the quartiles of the Life Expectancy for low_gdp\n",
    "low_gdp_quartiles = low_gdp['Life Expectancy']\n",
    "print(low_gdp_quartiles)"
   ]
  },
  {
   "cell_type": "code",
   "execution_count": 17,
   "metadata": {},
   "outputs": [
    {
     "name": "stdout",
     "output_type": "stream",
     "text": [
      "4      75.05625\n",
      "5      75.15625\n",
      "7      81.81250\n",
      "8      81.48125\n",
      "9      70.73125\n",
      "         ...   \n",
      "146    71.06875\n",
      "147    74.35625\n",
      "148    73.91250\n",
      "152    75.70000\n",
      "153    76.07500\n",
      "Name: Life Expectancy, Length: 79, dtype: float64\n"
     ]
    }
   ],
   "source": [
    "# Find the quartiles of the high GDP\n",
    "high_gdp_quartiles = high_gdp['Life Expectancy']\n",
    "print(high_gdp_quartiles)"
   ]
  },
  {
   "cell_type": "code",
   "execution_count": 18,
   "metadata": {},
   "outputs": [
    {
     "data": {
      "image/png": "[encoded data removed]",
      "text/plain": [
       "<Figure size 640x480 with 1 Axes>"
      ]
     },
     "metadata": {},
     "output_type": "display_data"
    }
   ],
   "source": [
    "plt.hist(high_gdp['Life Expectancy'], alpha = 0.5, label='High GDP')\n",
    "plt.hist(low_gdp['Life Expectancy'], alpha = 0.5, label='Low GDP')\n",
    "plt.legend()\n",
    "plt.show()"
   ]
  }
 ],
 "metadata": {
  "kernelspec": {
   "display_name": "Python 3",
   "language": "python",
   "name": "python3"
  },
  "language_info": {
   "codemirror_mode": {
    "name": "ipython",
    "version": 3
   },
   "file_extension": ".py",
   "mimetype": "text/x-python",
   "name": "python",
   "nbconvert_exporter": "python",
   "pygments_lexer": "ipython3",
   "version": "3.12.4"
  }
 },
 "nbformat": 4,
 "nbformat_minor": 2
}
